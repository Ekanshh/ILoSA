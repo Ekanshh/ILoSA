{
 "cells": [
  {
   "cell_type": "code",
   "execution_count": null,
   "metadata": {},
   "outputs": [],
   "source": [
    "import pickle\n"
   ]
  },
  {
   "cell_type": "code",
   "execution_count": 72,
   "metadata": {},
   "outputs": [
    {
     "name": "stdout",
     "output_type": "stream",
     "text": [
      "10\n",
      "right\n",
      "[-3.5166398735321303, 0.9509271326367499, -2.380767640270706, 0.04047614270547707, 0.5793661231944451, -0.05148274320192594]\n"
     ]
    }
   ],
   "source": [
    "import pandas as pd\n",
    "\n",
    "obj1 = pd.read_pickle(r'record_wrench_data_right.pickle')\n",
    "\n",
    "print(len(obj1))\n",
    "print((obj1[5][0]))\n",
    "print((obj1[5][1][0]))"
   ]
  },
  {
   "cell_type": "code",
   "execution_count": 73,
   "metadata": {},
   "outputs": [
    {
     "name": "stdout",
     "output_type": "stream",
     "text": [
      "10\n",
      "right\n",
      "[0.8948360743541467, -5.226805431420271, 5.7574680282974855, -0.12131009858608599, 0.30918394600984617, -0.008911072850630978]\n"
     ]
    }
   ],
   "source": [
    "import pandas as pd\n",
    "\n",
    "obj2 = pd.read_pickle(r'record_wrench_data1_right.pickle')\n",
    "\n",
    "print(len(obj2))\n",
    "print((obj2[5][0]))\n",
    "print((obj2[5][1][0]))"
   ]
  },
  {
   "cell_type": "code",
   "execution_count": 74,
   "metadata": {},
   "outputs": [
    {
     "name": "stdout",
     "output_type": "stream",
     "text": [
      "10\n",
      "left\n",
      "[-3.648474730395143, -0.07017591177161828, -3.2688521918938576, -0.5732286906143367, 1.2798273663436377, -0.8056562248240118]\n"
     ]
    }
   ],
   "source": [
    "obj3 = pd.read_pickle(r'record_wrench_data_left.pickle')\n",
    "\n",
    "print(len(obj3))\n",
    "print((obj3[5][0]))\n",
    "print((obj3[5][1][0]))"
   ]
  },
  {
   "cell_type": "code",
   "execution_count": 75,
   "metadata": {},
   "outputs": [
    {
     "name": "stdout",
     "output_type": "stream",
     "text": [
      "10\n",
      "left\n",
      "[-1.2297404299523704, -7.627650018404925, 5.286714957246992, 0.33064875635433577, 0.18612548548176763, 0.22096943196178298]\n"
     ]
    }
   ],
   "source": [
    "obj4 = pd.read_pickle(r'record_wrench_data1_left.pickle')\n",
    "\n",
    "print(len(obj4))\n",
    "print((obj4[5][0]))\n",
    "print((obj4[5][1][0]))"
   ]
  }
 ],
 "metadata": {
  "kernelspec": {
   "display_name": "Python 3.8.10 64-bit",
   "language": "python",
   "name": "python3"
  },
  "language_info": {
   "codemirror_mode": {
    "name": "ipython",
    "version": 3
   },
   "file_extension": ".py",
   "mimetype": "text/x-python",
   "name": "python",
   "nbconvert_exporter": "python",
   "pygments_lexer": "ipython3",
   "version": "3.8.10"
  },
  "orig_nbformat": 4,
  "vscode": {
   "interpreter": {
    "hash": "31f2aee4e71d21fbe5cf8b01ff0e069b9275f58929596ceb00d14d90e3e16cd6"
   }
  }
 },
 "nbformat": 4,
 "nbformat_minor": 2
}
